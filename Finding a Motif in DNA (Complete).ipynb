{
 "cells": [
  {
   "cell_type": "code",
   "execution_count": 13,
   "metadata": {},
   "outputs": [],
   "source": [
    "string = 'ACTTCTGTGGCACTTCTGTTACTTCTGAAGTTACTTCTGCAACTTCTGAGACTTCTGAAGTAACTTCTGAACTTCTGTGACGACTTCTGCACTTCTGACTTCTGACTTCTGGACTTCTGACTTCTGGACTTCTGTGCCTACTTCTGCTACTTCTGAACTTCTGCCAGTCGACTTCTGCTCGCAATGCCATTAACTTCTGTCGATACTTCTGGGACTTCTGTACTTCTGACTTCTGTACACTTCTGGACTTCTGGGACTTCTGCGACTTCTGACTTCTGCAGACTTCTGTACGCTACTTCTGGACTTCTGCCCACTTCTGTAAGTGGGACTTCTGCCACTTCTGCACTTCTGCCCGGCCCAGAAGGCCACTTCTGTACTTCTGTACTTCTGCATCACTTCTGACTTCTGACTTCTGACTTCTGTTCTGCACTTCTGACTTCTGTAACTTCTGAATGAGAACAAATTCACTTCTGGCCAACTTCTGTCGACTTCTGTACTTCTGCACTTCTGGTTTACACTTCTGAAATACACGACTTCTGCGGCACTTCTGAATCCGACTTCTGAATACTTCTGAAACTTCTGGACTTCTGCCTACTTCTGGTACTTCTGACTTCTGTACTTCTGACTTCTGGACTTCTGATCCACTTCTGCACTTCTGAGACTTCTGAGTAGAGAACTTCTGACTTCTGACTTCTGACTTCTGACTTCTGACTTCTGGTGTACTTCTGGACTTCTGTTCTCACTTCTGCACGCGGATGCTGCCACTTCTGTGACTTCTGACTTCTGTCCCTACTTCTGTTGACTTCTGACTTCTGTCTTGATGCACGCACTTCTGGA'\n",
    "sub_string = 'ACTTCTGAC'\n",
    "\n",
    "def find_locations(string,sub_string):\n",
    "    matches = []\n",
    "    for i in range(len(string)):\n",
    "        substring_length = len(sub_string)\n",
    "        if string[i:i+substring_length] == sub_string:\n",
    "            matches.append(i+1) #because list index is zero based, we add one\n",
    "    return matches"
   ]
  },
  {
   "cell_type": "code",
   "execution_count": 14,
   "metadata": {},
   "outputs": [
    {
     "name": "stdout",
     "output_type": "stream",
     "text": [
      "91 98 113 222 265 395 402 409 429 603 618 676 683 690 697 704 773 802 "
     ]
    }
   ],
   "source": [
    "locs = find_locations(string, sub_string)\n",
    "\n",
    "for loc in locs:\n",
    "    print(loc, end=' ')\n",
    "\n",
    "\n",
    "    "
   ]
  },
  {
   "cell_type": "code",
   "execution_count": null,
   "metadata": {},
   "outputs": [],
   "source": []
  }
 ],
 "metadata": {
  "kernelspec": {
   "display_name": "Python 3",
   "language": "python",
   "name": "python3"
  },
  "language_info": {
   "codemirror_mode": {
    "name": "ipython",
    "version": 3
   },
   "file_extension": ".py",
   "mimetype": "text/x-python",
   "name": "python",
   "nbconvert_exporter": "python",
   "pygments_lexer": "ipython3",
   "version": "3.6.3"
  }
 },
 "nbformat": 4,
 "nbformat_minor": 2
}
