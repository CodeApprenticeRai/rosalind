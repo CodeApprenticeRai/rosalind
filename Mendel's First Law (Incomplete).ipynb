{
 "cells": [
  {
   "cell_type": "code",
   "execution_count": null,
   "metadata": {},
   "outputs": [],
   "source": [
    "# K represents the number of homozygous dominant individuals in the population\n",
    "K = 2\n",
    "\n",
    "# M are Heterozygous\n",
    "M = 0\n",
    "\n",
    "# N are Homozygous recessive\n",
    "N = 1 \n",
    "\n",
    "def prob(k, m, n):\n",
    "    for i in range()\n",
    "p_kk = 1\n",
    "p_km = 1\n",
    "p_mm = 3/4\n",
    "p_mn = 1/2\n",
    "p_nn = 0\n",
    "\n",
    "\n",
    "#Output: the probability that two randomly selected mating organism will produce\n",
    "# an individual possessing a dominant allele\n"
   ]
  }
 ],
 "metadata": {
  "kernelspec": {
   "display_name": "Python 3",
   "language": "python",
   "name": "python3"
  },
  "language_info": {
   "codemirror_mode": {
    "name": "ipython",
    "version": 3
   },
   "file_extension": ".py",
   "mimetype": "text/x-python",
   "name": "python",
   "nbconvert_exporter": "python",
   "pygments_lexer": "ipython3",
   "version": "3.6.3"
  }
 },
 "nbformat": 4,
 "nbformat_minor": 2
}
