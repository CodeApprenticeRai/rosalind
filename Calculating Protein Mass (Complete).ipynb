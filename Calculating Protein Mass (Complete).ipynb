{
 "cells": [
  {
   "cell_type": "code",
   "execution_count": 26,
   "metadata": {},
   "outputs": [],
   "source": [
    "import pandas as pd\n",
    "\n",
    "# trans_key = pd.read_csv(\"monoisotopic_mass_table\", header=None, sep=\"\\t\", delimiter=\"\\n\")\n",
    "\n",
    "trans_key0 = open(\"monoisotopic_mass_table\", 'r').read()\n",
    "trans_key1 = trans_key0.split(\"\\n\")\n",
    "\n",
    "keys = [key[0] for key in trans_key1] \n",
    "values = [float(value[4:]) for value in trans_key1]\n",
    "\n",
    "translation_table = {} \n",
    "\n",
    "for i in range(len(keys)):\n",
    "    translation_table[keys[i]] = values[i]\n",
    "    \n",
    "translation_table\n",
    "\n",
    "def translate(string, t_table):\n",
    "    total_weight = 0\n",
    "    for char in string:\n",
    "        total_weight += translation_table[char]\n",
    "    return round(total_weight,3)\n"
   ]
  },
  {
   "cell_type": "code",
   "execution_count": 28,
   "metadata": {},
   "outputs": [
    {
     "data": {
      "text/plain": [
       "95991.222"
      ]
     },
     "execution_count": 28,
     "metadata": {},
     "output_type": "execute_result"
    }
   ],
   "source": [
    "string ='LCKLTNNNWWYPANRNAICRYYVCSHVWAFTQVKGLEAQMQWKAKRYWWWANFFHMTQFALNQTSGQHIVNVAVGCFPCCTGRLQEIKYMYNHKLVQIEPEGKHMHSQNCWYRHINLDWANAIHSSSIYYCWKIPMFVCDFMFEKADQLGGKPYSEYYIPLGRWGEINLEYDCPGSNAPIHNCPCGKLLDMKCFLKSHFGCFCSPAHHINNGRQFFGTHFIPEPYDVFGKTPIAQERVVVGQPFGFDFGYICWWLCWCDEHGHSPCWEMEPRGGKPDNRDDFDMYGLHYNTCNFVGKSWSTCCCPTCAAFNRFNRMTELLAMRAMSIYVDPKNHNMWWCTRDTMFRPEEMTYWMCRKGNHKNIRIVTYRPAQEEYHRNVWFWREAAAPDIMTYTWHHFPTWEPPGNMREDYVPCTGANEKLDHQWWSKRASGLVHNIKETDDADGKCDHTGHPNEFTCDTARDMKYYKRWPIRSWWKVLSKYLMHACWYIRTQATGMGQQSKTYVGSPDCKDVYWLEVTILKLFIRMKWQKWFICYGWKYWNKVIYVMAGDTCIAEPMTVESQIKMDNQSELEWLCIQVQVICIWTEHWAFPPKRQVSEASCAAATYECFFHNVLQSHAYPAEQVHYGMDNWDLSWGVDQACFPRNDGIPGIAFLAFKFHKVTNWFKFENDPSWCTRIDTQWKSMHPKNVSVHHPTEMLYNEYYIGTYCYYGRCKHMFIKKYMERTFRRCCAFYPKDAQILPHYRYTAKRGGSWVPELNCHVVAAWKKCQVPSLTYQNHKFIEQFICGRQKVLPLQIMEAWRWDLS'\n",
    "\n",
    "translate(string, translation_table)"
   ]
  },
  {
   "cell_type": "code",
   "execution_count": null,
   "metadata": {},
   "outputs": [],
   "source": []
  }
 ],
 "metadata": {
  "kernelspec": {
   "display_name": "Python 3",
   "language": "python",
   "name": "python3"
  },
  "language_info": {
   "codemirror_mode": {
    "name": "ipython",
    "version": 3
   },
   "file_extension": ".py",
   "mimetype": "text/x-python",
   "name": "python",
   "nbconvert_exporter": "python",
   "pygments_lexer": "ipython3",
   "version": "3.6.3"
  }
 },
 "nbformat": 4,
 "nbformat_minor": 2
}
